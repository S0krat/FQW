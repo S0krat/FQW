{
 "cells": [
  {
   "cell_type": "code",
   "execution_count": 2,
   "metadata": {},
   "outputs": [],
   "source": [
    "import pandas as pd\n",
    "import numpy as np\n",
    "from sktime.forecasting import tbats"
   ]
  },
  {
   "cell_type": "code",
   "execution_count": 2,
   "metadata": {},
   "outputs": [
    {
     "data": {
      "text/plain": [
       "2005-03-01 00:00:00   -12.1\n",
       "2005-03-01 03:00:00   -13.7\n",
       "2005-03-01 06:00:00   -14.6\n",
       "2005-03-01 09:00:00   -15.2\n",
       "2005-03-01 12:00:00   -13.5\n",
       "                       ... \n",
       "2024-02-17 09:00:00     2.3\n",
       "2024-02-17 12:00:00     2.9\n",
       "2024-02-17 15:00:00     3.3\n",
       "2024-02-17 18:00:00     1.0\n",
       "2024-02-17 21:00:00     0.6\n",
       "Freq: 3H, Name: T, Length: 55424, dtype: float64"
      ]
     },
     "execution_count": 2,
     "metadata": {},
     "output_type": "execute_result"
    }
   ],
   "source": [
    "temp_df = pd.read_csv(\"C:\\\\Users\\\\Лев\\\\Projects\\\\Diploma\\\\sbp2.csv\", sep=';')\n",
    "temp_df['time'] = pd.to_datetime(temp_df['time'], dayfirst=True)\n",
    "temp_df = temp_df.sort_values(by=['time'])\n",
    "temp = pd.DataFrame(pd.date_range(start=temp_df['time'][55215], end=temp_df['time'][0], freq='3 h'), columns=['time'])\n",
    "temp = temp.set_index('time').join(temp_df.set_index('time'), how='left')\n",
    "temp = temp['T'].ffill()\n",
    "temp.index = pd.date_range(start=temp_df['time'][55215], end=temp_df['time'][0], freq='3 h')\n",
    "temp"
   ]
  },
  {
   "cell_type": "code",
   "execution_count": 3,
   "metadata": {},
   "outputs": [],
   "source": [
    "def mae(y_true, y_pred): \n",
    "    return np.mean(np.abs(y_true - y_pred))"
   ]
  },
  {
   "cell_type": "code",
   "execution_count": 4,
   "metadata": {},
   "outputs": [],
   "source": [
    "from sktime.forecasting.model_selection import temporal_train_test_split\n",
    "\n",
    "temp_train, temp_test = temporal_train_test_split(temp, test_size=2920)"
   ]
  },
  {
   "cell_type": "code",
   "execution_count": 5,
   "metadata": {},
   "outputs": [
    {
     "data": {
      "text/html": [
       "<style>#sk-c3905ef1-5fce-4ed8-909f-6a80cdc60456 {color: black;background-color: white;}#sk-c3905ef1-5fce-4ed8-909f-6a80cdc60456 pre{padding: 0;}#sk-c3905ef1-5fce-4ed8-909f-6a80cdc60456 div.sk-toggleable {background-color: white;}#sk-c3905ef1-5fce-4ed8-909f-6a80cdc60456 label.sk-toggleable__label {cursor: pointer;display: block;width: 100%;margin-bottom: 0;padding: 0.3em;box-sizing: border-box;text-align: center;}#sk-c3905ef1-5fce-4ed8-909f-6a80cdc60456 label.sk-toggleable__label-arrow:before {content: \"▸\";float: left;margin-right: 0.25em;color: #696969;}#sk-c3905ef1-5fce-4ed8-909f-6a80cdc60456 label.sk-toggleable__label-arrow:hover:before {color: black;}#sk-c3905ef1-5fce-4ed8-909f-6a80cdc60456 div.sk-estimator:hover label.sk-toggleable__label-arrow:before {color: black;}#sk-c3905ef1-5fce-4ed8-909f-6a80cdc60456 div.sk-toggleable__content {max-height: 0;max-width: 0;overflow: hidden;text-align: left;background-color: #f0f8ff;}#sk-c3905ef1-5fce-4ed8-909f-6a80cdc60456 div.sk-toggleable__content pre {margin: 0.2em;color: black;border-radius: 0.25em;background-color: #f0f8ff;}#sk-c3905ef1-5fce-4ed8-909f-6a80cdc60456 input.sk-toggleable__control:checked~div.sk-toggleable__content {max-height: 200px;max-width: 100%;overflow: auto;}#sk-c3905ef1-5fce-4ed8-909f-6a80cdc60456 input.sk-toggleable__control:checked~label.sk-toggleable__label-arrow:before {content: \"▾\";}#sk-c3905ef1-5fce-4ed8-909f-6a80cdc60456 div.sk-estimator input.sk-toggleable__control:checked~label.sk-toggleable__label {background-color: #d4ebff;}#sk-c3905ef1-5fce-4ed8-909f-6a80cdc60456 div.sk-label input.sk-toggleable__control:checked~label.sk-toggleable__label {background-color: #d4ebff;}#sk-c3905ef1-5fce-4ed8-909f-6a80cdc60456 input.sk-hidden--visually {border: 0;clip: rect(1px 1px 1px 1px);clip: rect(1px, 1px, 1px, 1px);height: 1px;margin: -1px;overflow: hidden;padding: 0;position: absolute;width: 1px;}#sk-c3905ef1-5fce-4ed8-909f-6a80cdc60456 div.sk-estimator {font-family: monospace;background-color: #f0f8ff;border: 1px dotted black;border-radius: 0.25em;box-sizing: border-box;margin-bottom: 0.5em;}#sk-c3905ef1-5fce-4ed8-909f-6a80cdc60456 div.sk-estimator:hover {background-color: #d4ebff;}#sk-c3905ef1-5fce-4ed8-909f-6a80cdc60456 div.sk-parallel-item::after {content: \"\";width: 100%;border-bottom: 1px solid gray;flex-grow: 1;}#sk-c3905ef1-5fce-4ed8-909f-6a80cdc60456 div.sk-label:hover label.sk-toggleable__label {background-color: #d4ebff;}#sk-c3905ef1-5fce-4ed8-909f-6a80cdc60456 div.sk-serial::before {content: \"\";position: absolute;border-left: 1px solid gray;box-sizing: border-box;top: 2em;bottom: 0;left: 50%;}#sk-c3905ef1-5fce-4ed8-909f-6a80cdc60456 div.sk-serial {display: flex;flex-direction: column;align-items: center;background-color: white;padding-right: 0.2em;padding-left: 0.2em;}#sk-c3905ef1-5fce-4ed8-909f-6a80cdc60456 div.sk-item {z-index: 1;}#sk-c3905ef1-5fce-4ed8-909f-6a80cdc60456 div.sk-parallel {display: flex;align-items: stretch;justify-content: center;background-color: white;}#sk-c3905ef1-5fce-4ed8-909f-6a80cdc60456 div.sk-parallel::before {content: \"\";position: absolute;border-left: 1px solid gray;box-sizing: border-box;top: 2em;bottom: 0;left: 50%;}#sk-c3905ef1-5fce-4ed8-909f-6a80cdc60456 div.sk-parallel-item {display: flex;flex-direction: column;position: relative;background-color: white;}#sk-c3905ef1-5fce-4ed8-909f-6a80cdc60456 div.sk-parallel-item:first-child::after {align-self: flex-end;width: 50%;}#sk-c3905ef1-5fce-4ed8-909f-6a80cdc60456 div.sk-parallel-item:last-child::after {align-self: flex-start;width: 50%;}#sk-c3905ef1-5fce-4ed8-909f-6a80cdc60456 div.sk-parallel-item:only-child::after {width: 0;}#sk-c3905ef1-5fce-4ed8-909f-6a80cdc60456 div.sk-dashed-wrapped {border: 1px dashed gray;margin: 0 0.4em 0.5em 0.4em;box-sizing: border-box;padding-bottom: 0.4em;background-color: white;position: relative;}#sk-c3905ef1-5fce-4ed8-909f-6a80cdc60456 div.sk-label label {font-family: monospace;font-weight: bold;background-color: white;display: inline-block;line-height: 1.2em;}#sk-c3905ef1-5fce-4ed8-909f-6a80cdc60456 div.sk-label-container {position: relative;z-index: 2;text-align: center;}#sk-c3905ef1-5fce-4ed8-909f-6a80cdc60456 div.sk-container {/* jupyter's `normalize.less` sets `[hidden] { display: none; }` but bootstrap.min.css set `[hidden] { display: none !important; }` so we also need the `!important` here to be able to override the default hidden behavior on the sphinx rendered scikit-learn.org. See: https://github.com/scikit-learn/scikit-learn/issues/21755 */display: inline-block !important;position: relative;}#sk-c3905ef1-5fce-4ed8-909f-6a80cdc60456 div.sk-text-repr-fallback {display: none;}</style><div id='sk-c3905ef1-5fce-4ed8-909f-6a80cdc60456' class=\"sk-top-container\"><div class=\"sk-text-repr-fallback\"><pre>TBATS(sp=[8, 2922], use_box_cox=False, use_trend=False)</pre><b>Please rerun this cell to show the HTML repr or trust the notebook.</b></div><div class=\"sk-container\" hidden><div class='sk-item'><div class=\"sk-estimator sk-toggleable\"><input class=\"sk-toggleable__control sk-hidden--visually\" id=UUID('d0e05e32-ab96-43fa-8a0e-774886003ee0') type=\"checkbox\" checked><label for=UUID('d0e05e32-ab96-43fa-8a0e-774886003ee0') class='sk-toggleable__label sk-toggleable__label-arrow'>TBATS</label><div class=\"sk-toggleable__content\"><pre>TBATS(sp=[8, 2922], use_box_cox=False, use_trend=False)</pre></div></div></div></div></div>"
      ],
      "text/plain": [
       "TBATS(sp=[8, 2922], use_box_cox=False, use_trend=False)"
      ]
     },
     "execution_count": 5,
     "metadata": {},
     "output_type": "execute_result"
    }
   ],
   "source": [
    "tbats_model = tbats.TBATS(use_box_cox=False, use_trend=False, sp=[8, 2922])\n",
    "tbats_model.fit(temp_train[-20000:])"
   ]
  },
  {
   "cell_type": "code",
   "execution_count": 7,
   "metadata": {},
   "outputs": [
    {
     "data": {
      "text/plain": [
       "<zipfile.ZipFile filename='tbats.zip' mode='r'>"
      ]
     },
     "execution_count": 7,
     "metadata": {},
     "output_type": "execute_result"
    }
   ],
   "source": [
    "tbats_model.save(\"tbats\")"
   ]
  },
  {
   "cell_type": "code",
   "execution_count": 5,
   "metadata": {},
   "outputs": [],
   "source": [
    "tbats_model = tbats.TBATS.load_from_path(\"C:\\\\Users\\\\Лев\\\\Projects\\\\Diploma\\\\tbats.zip\")"
   ]
  },
  {
   "cell_type": "code",
   "execution_count": 8,
   "metadata": {},
   "outputs": [
    {
     "data": {
      "text/plain": [
       "{'display': 'diagram',\n",
       " 'print_changed_only': True,\n",
       " 'check_clone': False,\n",
       " 'clone_config': True,\n",
       " 'warnings': 'on',\n",
       " 'backend:parallel': None,\n",
       " 'backend:parallel:params': None,\n",
       " 'remember_data': True}"
      ]
     },
     "execution_count": 8,
     "metadata": {},
     "output_type": "execute_result"
    }
   ],
   "source": [
    "tbats_model.get_config()"
   ]
  },
  {
   "cell_type": "code",
   "execution_count": null,
   "metadata": {},
   "outputs": [],
   "source": [
    "results = np.array([tbats_model.predict(range(1,25))])\n",
    "\n",
    "for i in range(358):\n",
    "    print(round(i / 358, 4))\n",
    "    tbats_model.update(temp_test[8*i:8*(i+1)], update_params=False)\n",
    "    results = np.append(results, [tbats_model.predict(range(1,25))], axis=0)"
   ]
  },
  {
   "cell_type": "code",
   "execution_count": null,
   "metadata": {},
   "outputs": [],
   "source": [
    "maes = [mae(results[:,j], temp_test[[8*i + j for i in range(359)]]) for j in range(24)]"
   ]
  },
  {
   "cell_type": "code",
   "execution_count": 36,
   "metadata": {},
   "outputs": [
    {
     "data": {
      "image/png": "[encoded data removed]",
      "text/plain": [
       "<Figure size 640x480 with 1 Axes>"
      ]
     },
     "metadata": {},
     "output_type": "display_data"
    }
   ],
   "source": [
    "import matplotlib.pyplot as plt\n",
    "\n",
    "names=['3h','6h','               ','12h','              ','18h','             ','1d','            ','           ','          ','1d12h','         ','        ','       ','2d', ' ','  ','   ','2d12h','    ','     ','      ','3d']\n",
    "plt.bar(x=names, height=maes)\n",
    "plt.xlabel(\"Время предсказания\")\n",
    "plt.ylabel(\"mae\")\n",
    "plt.show()"
   ]
  }
 ],
 "metadata": {
  "kernelspec": {
   "display_name": "Python 3",
   "language": "python",
   "name": "python3"
  },
  "language_info": {
   "codemirror_mode": {
    "name": "ipython",
    "version": 3
   },
   "file_extension": ".py",
   "mimetype": "text/x-python",
   "name": "python",
   "nbconvert_exporter": "python",
   "pygments_lexer": "ipython3",
   "version": "3.12.2"
  }
 },
 "nbformat": 4,
 "nbformat_minor": 2
}
