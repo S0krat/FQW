{
 "cells": [
  {
   "cell_type": "code",
   "execution_count": 1,
   "metadata": {},
   "outputs": [],
   "source": [
    "import pandas as pd\n",
    "import numpy as np\n",
    "\n",
    "temp_df = pd.read_csv(\"C:\\\\Users\\\\Лев\\\\Projects\\\\Diploma\\\\sbp2.csv\", sep=';')\n",
    "temp_df['time'] = pd.to_datetime(temp_df['time'], dayfirst=True)\n",
    "temp_df = temp_df.sort_values(by=['time'])\n",
    "temp = pd.DataFrame(pd.date_range(start=temp_df['time'][55215], end=temp_df['time'][0], freq='3 h'), columns=['time'])\n",
    "temp = temp.set_index('time').join(temp_df.set_index('time'), how='left')\n",
    "temp = temp['T'].ffill()\n",
    "temp.index = pd.date_range(start=temp_df['time'][55215], end=temp_df['time'][0], freq='3 h')"
   ]
  },
  {
   "cell_type": "code",
   "execution_count": 3,
   "metadata": {},
   "outputs": [
    {
     "data": {
      "text/plain": [
       "<Axes: title={'center': 'T'}, xlabel='hour'>"
      ]
     },
     "execution_count": 3,
     "metadata": {},
     "output_type": "execute_result"
    },
    {
     "data": {
      "image/png": "[encoded data removed]",
      "text/plain": [
       "<Figure size 640x480 with 1 Axes>"
      ]
     },
     "metadata": {},
     "output_type": "display_data"
    }
   ],
   "source": [
    "hour_vars = temp.to_frame()\n",
    "hour_vars['hour'] = hour_vars.index.hour\n",
    "hour_vars.boxplot(column='T', by='hour', grid=False, showfliers=False)"
   ]
  },
  {
   "cell_type": "code",
   "execution_count": 2,
   "metadata": {},
   "outputs": [],
   "source": [
    "hour_vars = temp.to_frame()\n",
    "hour_vars['hour'] = hour_vars.index.hour\n",
    "hour_vars = hour_vars.groupby('hour').var()"
   ]
  },
  {
   "cell_type": "code",
   "execution_count": 4,
   "metadata": {},
   "outputs": [
    {
     "data": {
      "text/plain": [
       "hour\n",
       "0     0.770578\n",
       "3     0.727813\n",
       "6     0.729499\n",
       "9     0.885727\n",
       "12    0.982857\n",
       "15    0.999754\n",
       "18    1.000000\n",
       "21    0.883696\n",
       "Name: T, dtype: float64"
      ]
     },
     "execution_count": 4,
     "metadata": {},
     "output_type": "execute_result"
    }
   ],
   "source": [
    "hour_vars['T'] / hour_vars['T'].max()"
   ]
  },
  {
   "cell_type": "code",
   "execution_count": 35,
   "metadata": {},
   "outputs": [
    {
     "data": {
      "text/html": [
       "<div>\n",
       "<style scoped>\n",
       "    .dataframe tbody tr th:only-of-type {\n",
       "        vertical-align: middle;\n",
       "    }\n",
       "\n",
       "    .dataframe tbody tr th {\n",
       "        vertical-align: top;\n",
       "    }\n",
       "\n",
       "    .dataframe thead th {\n",
       "        text-align: right;\n",
       "    }\n",
       "</style>\n",
       "<table border=\"1\" class=\"dataframe\">\n",
       "  <thead>\n",
       "    <tr style=\"text-align: right;\">\n",
       "      <th></th>\n",
       "      <th>T</th>\n",
       "    </tr>\n",
       "    <tr>\n",
       "      <th>hour</th>\n",
       "      <th></th>\n",
       "    </tr>\n",
       "  </thead>\n",
       "  <tbody>\n",
       "    <tr>\n",
       "      <th>0</th>\n",
       "      <td>2.208907</td>\n",
       "    </tr>\n",
       "    <tr>\n",
       "      <th>3</th>\n",
       "      <td>1.266934</td>\n",
       "    </tr>\n",
       "    <tr>\n",
       "      <th>6</th>\n",
       "      <td>1.045028</td>\n",
       "    </tr>\n",
       "    <tr>\n",
       "      <th>9</th>\n",
       "      <td>3.860619</td>\n",
       "    </tr>\n",
       "    <tr>\n",
       "      <th>12</th>\n",
       "      <td>2.920675</td>\n",
       "    </tr>\n",
       "    <tr>\n",
       "      <th>15</th>\n",
       "      <td>1.911814</td>\n",
       "    </tr>\n",
       "    <tr>\n",
       "      <th>18</th>\n",
       "      <td>1.653839</td>\n",
       "    </tr>\n",
       "    <tr>\n",
       "      <th>21</th>\n",
       "      <td>2.344334</td>\n",
       "    </tr>\n",
       "  </tbody>\n",
       "</table>\n",
       "</div>"
      ],
      "text/plain": [
       "             T\n",
       "hour          \n",
       "0     2.208907\n",
       "3     1.266934\n",
       "6     1.045028\n",
       "9     3.860619\n",
       "12    2.920675\n",
       "15    1.911814\n",
       "18    1.653839\n",
       "21    2.344334"
      ]
     },
     "execution_count": 35,
     "metadata": {},
     "output_type": "execute_result"
    }
   ],
   "source": [
    "diffs = temp.diff().to_frame()\n",
    "diffs['hour'] = diffs.index.hour\n",
    "day_vars = diffs.groupby('hour').var()\n",
    "day_vars"
   ]
  },
  {
   "cell_type": "code",
   "execution_count": 36,
   "metadata": {},
   "outputs": [
    {
     "data": {
      "text/html": [
       "<div>\n",
       "<style scoped>\n",
       "    .dataframe tbody tr th:only-of-type {\n",
       "        vertical-align: middle;\n",
       "    }\n",
       "\n",
       "    .dataframe tbody tr th {\n",
       "        vertical-align: top;\n",
       "    }\n",
       "\n",
       "    .dataframe thead th {\n",
       "        text-align: right;\n",
       "    }\n",
       "</style>\n",
       "<table border=\"1\" class=\"dataframe\">\n",
       "  <thead>\n",
       "    <tr style=\"text-align: right;\">\n",
       "      <th></th>\n",
       "      <th>T</th>\n",
       "    </tr>\n",
       "    <tr>\n",
       "      <th>hour</th>\n",
       "      <th></th>\n",
       "    </tr>\n",
       "  </thead>\n",
       "  <tbody>\n",
       "    <tr>\n",
       "      <th>0</th>\n",
       "      <td>0.452713</td>\n",
       "    </tr>\n",
       "    <tr>\n",
       "      <th>3</th>\n",
       "      <td>0.789307</td>\n",
       "    </tr>\n",
       "    <tr>\n",
       "      <th>6</th>\n",
       "      <td>0.956912</td>\n",
       "    </tr>\n",
       "    <tr>\n",
       "      <th>9</th>\n",
       "      <td>0.259026</td>\n",
       "    </tr>\n",
       "    <tr>\n",
       "      <th>12</th>\n",
       "      <td>0.342387</td>\n",
       "    </tr>\n",
       "    <tr>\n",
       "      <th>15</th>\n",
       "      <td>0.523064</td>\n",
       "    </tr>\n",
       "    <tr>\n",
       "      <th>18</th>\n",
       "      <td>0.604654</td>\n",
       "    </tr>\n",
       "    <tr>\n",
       "      <th>21</th>\n",
       "      <td>0.426560</td>\n",
       "    </tr>\n",
       "  </tbody>\n",
       "</table>\n",
       "</div>"
      ],
      "text/plain": [
       "             T\n",
       "hour          \n",
       "0     0.452713\n",
       "3     0.789307\n",
       "6     0.956912\n",
       "9     0.259026\n",
       "12    0.342387\n",
       "15    0.523064\n",
       "18    0.604654\n",
       "21    0.426560"
      ]
     },
     "execution_count": 36,
     "metadata": {},
     "output_type": "execute_result"
    }
   ],
   "source": [
    "day_vars = 1 / day_vars\n",
    "day_vars"
   ]
  },
  {
   "cell_type": "code",
   "execution_count": 37,
   "metadata": {},
   "outputs": [
    {
     "data": {
      "text/html": [
       "<div>\n",
       "<style scoped>\n",
       "    .dataframe tbody tr th:only-of-type {\n",
       "        vertical-align: middle;\n",
       "    }\n",
       "\n",
       "    .dataframe tbody tr th {\n",
       "        vertical-align: top;\n",
       "    }\n",
       "\n",
       "    .dataframe thead th {\n",
       "        text-align: right;\n",
       "    }\n",
       "</style>\n",
       "<table border=\"1\" class=\"dataframe\">\n",
       "  <thead>\n",
       "    <tr style=\"text-align: right;\">\n",
       "      <th></th>\n",
       "      <th>T</th>\n",
       "    </tr>\n",
       "    <tr>\n",
       "      <th>hour</th>\n",
       "      <th></th>\n",
       "    </tr>\n",
       "  </thead>\n",
       "  <tbody>\n",
       "    <tr>\n",
       "      <th>0</th>\n",
       "      <td>0.831691</td>\n",
       "    </tr>\n",
       "    <tr>\n",
       "      <th>3</th>\n",
       "      <td>1.450059</td>\n",
       "    </tr>\n",
       "    <tr>\n",
       "      <th>6</th>\n",
       "      <td>1.757970</td>\n",
       "    </tr>\n",
       "    <tr>\n",
       "      <th>9</th>\n",
       "      <td>0.475864</td>\n",
       "    </tr>\n",
       "    <tr>\n",
       "      <th>12</th>\n",
       "      <td>0.629008</td>\n",
       "    </tr>\n",
       "    <tr>\n",
       "      <th>15</th>\n",
       "      <td>0.960935</td>\n",
       "    </tr>\n",
       "    <tr>\n",
       "      <th>18</th>\n",
       "      <td>1.110826</td>\n",
       "    </tr>\n",
       "    <tr>\n",
       "      <th>21</th>\n",
       "      <td>0.783646</td>\n",
       "    </tr>\n",
       "  </tbody>\n",
       "</table>\n",
       "</div>"
      ],
      "text/plain": [
       "             T\n",
       "hour          \n",
       "0     0.831691\n",
       "3     1.450059\n",
       "6     1.757970\n",
       "9     0.475864\n",
       "12    0.629008\n",
       "15    0.960935\n",
       "18    1.110826\n",
       "21    0.783646"
      ]
     },
     "execution_count": 37,
     "metadata": {},
     "output_type": "execute_result"
    }
   ],
   "source": [
    "day_vars = day_vars * 8 / day_vars.sum()\n",
    "day_vars"
   ]
  },
  {
   "cell_type": "code",
   "execution_count": 46,
   "metadata": {},
   "outputs": [
    {
     "data": {
      "image/png": "[encoded data removed]",
      "text/plain": [
       "<Figure size 640x480 with 1 Axes>"
      ]
     },
     "metadata": {},
     "output_type": "display_data"
    }
   ],
   "source": [
    "import matplotlib.pyplot as plt\n",
    "\n",
    "diffs = temp.diff()[1:].to_frame()\n",
    "diffs['hour'] = diffs.index.hour\n",
    "\n",
    "plt.box(False)\n",
    "for h in [-4, -2, 0, 2, 4, 6]:\n",
    "    plt.axhline(y=h, color='black', alpha=0.1, lw=1)\n",
    "\n",
    "arrays = [diffs[diffs['hour'] == i]['T'].values for i in [0,3,6,9,12,15,18,21]]\n",
    "plt.boxplot(arrays, \n",
    "            showfliers=False, \n",
    "            medianprops={\"color\":\"black\"})\n",
    "plt.xticks(list(range(1,9)),[0,3,6,9,12,15,18,21])\n",
    "plt.xlabel(\"Время суток\")\n",
    "plt.ylabel(\"$\\\\Delta x_i$\")\n",
    "plt.show()\n",
    "\n",
    "# diffs.boxplot(column='T', by='hour', grid=False, showfliers=False)"
   ]
  },
  {
   "cell_type": "code",
   "execution_count": 44,
   "metadata": {},
   "outputs": [
    {
     "data": {
      "text/html": [
       "<div>\n",
       "<style scoped>\n",
       "    .dataframe tbody tr th:only-of-type {\n",
       "        vertical-align: middle;\n",
       "    }\n",
       "\n",
       "    .dataframe tbody tr th {\n",
       "        vertical-align: top;\n",
       "    }\n",
       "\n",
       "    .dataframe thead th {\n",
       "        text-align: right;\n",
       "    }\n",
       "</style>\n",
       "<table border=\"1\" class=\"dataframe\">\n",
       "  <thead>\n",
       "    <tr style=\"text-align: right;\">\n",
       "      <th></th>\n",
       "      <th>T_x</th>\n",
       "      <th>hour</th>\n",
       "      <th>T_y</th>\n",
       "      <th>T</th>\n",
       "    </tr>\n",
       "  </thead>\n",
       "  <tbody>\n",
       "    <tr>\n",
       "      <th>0</th>\n",
       "      <td>-1.6</td>\n",
       "      <td>3</td>\n",
       "      <td>1.450059</td>\n",
       "      <td>3.712150</td>\n",
       "    </tr>\n",
       "    <tr>\n",
       "      <th>1</th>\n",
       "      <td>-0.9</td>\n",
       "      <td>6</td>\n",
       "      <td>1.757970</td>\n",
       "      <td>1.423956</td>\n",
       "    </tr>\n",
       "    <tr>\n",
       "      <th>2</th>\n",
       "      <td>-0.6</td>\n",
       "      <td>9</td>\n",
       "      <td>0.475864</td>\n",
       "      <td>0.171311</td>\n",
       "    </tr>\n",
       "    <tr>\n",
       "      <th>3</th>\n",
       "      <td>1.7</td>\n",
       "      <td>12</td>\n",
       "      <td>0.629008</td>\n",
       "      <td>1.817834</td>\n",
       "    </tr>\n",
       "    <tr>\n",
       "      <th>4</th>\n",
       "      <td>2.3</td>\n",
       "      <td>15</td>\n",
       "      <td>0.960935</td>\n",
       "      <td>5.083346</td>\n",
       "    </tr>\n",
       "    <tr>\n",
       "      <th>...</th>\n",
       "      <td>...</td>\n",
       "      <td>...</td>\n",
       "      <td>...</td>\n",
       "      <td>...</td>\n",
       "    </tr>\n",
       "    <tr>\n",
       "      <th>55418</th>\n",
       "      <td>0.5</td>\n",
       "      <td>9</td>\n",
       "      <td>0.475864</td>\n",
       "      <td>0.118966</td>\n",
       "    </tr>\n",
       "    <tr>\n",
       "      <th>55419</th>\n",
       "      <td>0.6</td>\n",
       "      <td>12</td>\n",
       "      <td>0.629008</td>\n",
       "      <td>0.226443</td>\n",
       "    </tr>\n",
       "    <tr>\n",
       "      <th>55420</th>\n",
       "      <td>0.4</td>\n",
       "      <td>15</td>\n",
       "      <td>0.960935</td>\n",
       "      <td>0.153750</td>\n",
       "    </tr>\n",
       "    <tr>\n",
       "      <th>55421</th>\n",
       "      <td>-2.3</td>\n",
       "      <td>18</td>\n",
       "      <td>1.110826</td>\n",
       "      <td>5.876272</td>\n",
       "    </tr>\n",
       "    <tr>\n",
       "      <th>55422</th>\n",
       "      <td>-0.4</td>\n",
       "      <td>21</td>\n",
       "      <td>0.783646</td>\n",
       "      <td>0.125383</td>\n",
       "    </tr>\n",
       "  </tbody>\n",
       "</table>\n",
       "<p>55423 rows × 4 columns</p>\n",
       "</div>"
      ],
      "text/plain": [
       "       T_x  hour       T_y         T\n",
       "0     -1.6     3  1.450059  3.712150\n",
       "1     -0.9     6  1.757970  1.423956\n",
       "2     -0.6     9  0.475864  0.171311\n",
       "3      1.7    12  0.629008  1.817834\n",
       "4      2.3    15  0.960935  5.083346\n",
       "...    ...   ...       ...       ...\n",
       "55418  0.5     9  0.475864  0.118966\n",
       "55419  0.6    12  0.629008  0.226443\n",
       "55420  0.4    15  0.960935  0.153750\n",
       "55421 -2.3    18  1.110826  5.876272\n",
       "55422 -0.4    21  0.783646  0.125383\n",
       "\n",
       "[55423 rows x 4 columns]"
      ]
     },
     "execution_count": 44,
     "metadata": {},
     "output_type": "execute_result"
    }
   ],
   "source": [
    "diffs = temp.diff()[1:].to_frame()\n",
    "diffs['hour'] = diffs.index.hour\n",
    "\n",
    "diffs = pd.merge(diffs, day_vars, how='left', on='hour')\n",
    "diffs['T'] = diffs['T_x'] * diffs['T_x'] * diffs['T_y']\n",
    "diffs"
   ]
  },
  {
   "cell_type": "code",
   "execution_count": 45,
   "metadata": {},
   "outputs": [
    {
     "data": {
      "image/png": "[encoded data removed]",
      "text/plain": [
       "<Figure size 640x480 with 1 Axes>"
      ]
     },
     "metadata": {},
     "output_type": "display_data"
    }
   ],
   "source": [
    "import matplotlib.pyplot as plt\n",
    "\n",
    "plt.box(False)\n",
    "for h in [-4, -2, 0, 2, 4, 6]:\n",
    "    plt.axhline(y=h, color='black', alpha=0.1, lw=1)\n",
    "\n",
    "arrays = [diffs[diffs['hour'] == i]['T'].values for i in [0,3,6,9,12,15,18,21]]\n",
    "plt.boxplot(arrays, \n",
    "            showfliers=False, \n",
    "            medianprops={\"color\":\"black\"})\n",
    "plt.xticks(list(range(1,9)),[0,3,6,9,12,15,18,21])\n",
    "plt.xlabel(\"Время суток\")\n",
    "plt.ylabel(\"$\\\\Delta x_i$\")\n",
    "plt.show()"
   ]
  }
 ],
 "metadata": {
  "kernelspec": {
   "display_name": "Python 3",
   "language": "python",
   "name": "python3"
  },
  "language_info": {
   "codemirror_mode": {
    "name": "ipython",
    "version": 3
   },
   "file_extension": ".py",
   "mimetype": "text/x-python",
   "name": "python",
   "nbconvert_exporter": "python",
   "pygments_lexer": "ipython3",
   "version": "3.12.2"
  }
 },
 "nbformat": 4,
 "nbformat_minor": 2
}
