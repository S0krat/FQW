{
 "cells": [
  {
   "cell_type": "code",
   "execution_count": 2,
   "metadata": {},
   "outputs": [],
   "source": [
    "import pandas as pd\n",
    "import numpy as np\n",
    "\n",
    "temp_df = pd.read_csv(\"C:\\\\Users\\\\Лев\\\\Projects\\\\Diploma\\\\sbp2.csv\", sep=';')\n",
    "temp_df['time'] = pd.to_datetime(temp_df['time'], dayfirst=True)\n",
    "temp_df = temp_df.sort_values(by=['time'])\n",
    "temp = pd.DataFrame(pd.date_range(start=temp_df['time'][55215], end=temp_df['time'][0], freq='3 h'), columns=['time'])\n",
    "temp = temp.set_index('time').join(temp_df.set_index('time'), how='left')\n",
    "temp = temp['T'].ffill()\n",
    "temp.index = pd.date_range(start=temp_df['time'][55215], end=temp_df['time'][0], freq='3 h')"
   ]
  },
  {
   "cell_type": "code",
   "execution_count": 3,
   "metadata": {},
   "outputs": [],
   "source": [
    "hour_vars = temp.to_frame()\n",
    "hour_vars['hour'] = hour_vars.index.hour\n",
    "hour_vars = hour_vars.groupby('hour').var()"
   ]
  },
  {
   "cell_type": "code",
   "execution_count": 4,
   "metadata": {},
   "outputs": [
    {
     "data": {
      "text/plain": [
       "hour\n",
       "0     0.770578\n",
       "3     0.727813\n",
       "6     0.729499\n",
       "9     0.885727\n",
       "12    0.982857\n",
       "15    0.999754\n",
       "18    1.000000\n",
       "21    0.883696\n",
       "Name: T, dtype: float64"
      ]
     },
     "execution_count": 4,
     "metadata": {},
     "output_type": "execute_result"
    }
   ],
   "source": [
    "hour_vars['T'] / hour_vars['T'].max()"
   ]
  }
 ],
 "metadata": {
  "kernelspec": {
   "display_name": "Python 3",
   "language": "python",
   "name": "python3"
  },
  "language_info": {
   "codemirror_mode": {
    "name": "ipython",
    "version": 3
   },
   "file_extension": ".py",
   "mimetype": "text/x-python",
   "name": "python",
   "nbconvert_exporter": "python",
   "pygments_lexer": "ipython3",
   "version": "3.12.2"
  }
 },
 "nbformat": 4,
 "nbformat_minor": 2
}
